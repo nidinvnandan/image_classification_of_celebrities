{
 "cells": [
  {
   "cell_type": "markdown",
   "metadata": {},
   "source": [
    "CELEBRITY IMAGE CLASSIFICATION USING CNN\n",
    "\n",
    "\n",
    "Submitted by,\n",
    "\n",
    "NIDIN V NANDAN\n",
    "\n",
    "MSc Computer Science With Data Analytics\n",
    "\n",
    "Reg No: 223039"
   ]
  },
  {
   "cell_type": "code",
   "execution_count": 2,
   "metadata": {},
   "outputs": [],
   "source": [
    "#importing neccessary libraries\n",
    "import numpy as np\n",
    "import matplotlib.pyplot as plt\n",
    "import cv2\n",
    "import os\n",
    "import tensorflow as tf\n",
    "from PIL import Image\n",
    "from sklearn.model_selection import train_test_split\n",
    "from sklearn.metrics import classification_report\n",
    "from tqdm import tqdm"
   ]
  },
  {
   "cell_type": "code",
   "execution_count": 3,
   "metadata": {},
   "outputs": [],
   "source": [
    "# Defining the directory paths and loading the images\n",
    "image_dir='cropped/'\n",
    "lionel_messi_images=os.listdir(image_dir+ '/lionel_messi')\n",
    "maria_sharapova_images=os.listdir(image_dir+ '/maria_sharapova')\n",
    "roger_federer_images=os.listdir(image_dir+ '/roger_federer')\n",
    "serena_williams_images=os.listdir(image_dir+ '/serena_williams')\n",
    "virat_kohli_images=os.listdir(image_dir+ '/virat_kohli')"
   ]
  },
  {
   "cell_type": "code",
   "execution_count": 4,
   "metadata": {},
   "outputs": [],
   "source": [
    "dataset = []\n",
    "label = []\n",
    "img_siz= (128, 128)"
   ]
  },
  {
   "cell_type": "code",
   "execution_count": 5,
   "metadata": {},
   "outputs": [
    {
     "name": "stderr",
     "output_type": "stream",
     "text": [
      "lionel_messi: 36it [00:01, 35.75it/s]\n",
      "maria_sharapova: 34it [00:00, 48.68it/s]\n",
      "roger_federer: 28it [00:00, 64.75it/s]\n",
      "serena_williams: 29it [00:00, 65.10it/s]\n",
      "virat_kohli: 41it [00:00, 91.57it/s]\n"
     ]
    }
   ],
   "source": [
    "# Loop through each celebrity folder\n",
    "for i , image_name in tqdm(enumerate(lionel_messi_images),desc=\"lionel_messi\"):\n",
    "    if(image_name.split('.')[1]=='png'):\n",
    "        image=cv2.imread(image_dir+'/lionel_messi/'+image_name)\n",
    "        image=Image.fromarray(image,'RGB')\n",
    "        image=image.resize(img_siz)\n",
    "        dataset.append(np.array(image))\n",
    "        label.append(0)\n",
    "\n",
    "for i , image_name in tqdm(enumerate(maria_sharapova_images),desc=\"maria_sharapova\"):\n",
    "    if(image_name.split('.')[1]=='png'):\n",
    "        image=cv2.imread(image_dir+'/maria_sharapova/'+image_name)\n",
    "        image=Image.fromarray(image,'RGB')\n",
    "        image=image.resize(img_siz)\n",
    "        dataset.append(np.array(image))\n",
    "        label.append(1)\n",
    "for i , image_name in tqdm(enumerate(roger_federer_images),desc=\"roger_federer\"):\n",
    "    if(image_name.split('.')[1]=='png'):\n",
    "        image=cv2.imread(image_dir+'/roger_federer/'+image_name)\n",
    "        image=Image.fromarray(image,'RGB')\n",
    "        image=image.resize(img_siz)\n",
    "        dataset.append(np.array(image))\n",
    "        label.append(2)\n",
    "for i , image_name in tqdm(enumerate(serena_williams_images),desc=\"serena_williams\"):\n",
    "    if(image_name.split('.')[1]=='png'):\n",
    "        image=cv2.imread(image_dir+'/serena_williams/'+image_name)\n",
    "        image=Image.fromarray(image,'RGB')\n",
    "        image=image.resize(img_siz)\n",
    "        dataset.append(np.array(image))\n",
    "        label.append(3)\n",
    "for i , image_name in tqdm(enumerate(virat_kohli_images),desc=\"virat_kohli\"):\n",
    "    if(image_name.split('.')[1]=='png'):\n",
    "        image=cv2.imread(image_dir+'/virat_kohli/'+image_name)\n",
    "        image=Image.fromarray(image,'RGB')\n",
    "        image=image.resize(img_siz)\n",
    "        dataset.append(np.array(image))\n",
    "        label.append(4)"
   ]
  },
  {
   "cell_type": "code",
   "execution_count": 6,
   "metadata": {},
   "outputs": [],
   "source": [
    "# Convert lists to numpy arrays\n",
    "dataset = np.array(dataset)\n",
    "label = np.array(label)"
   ]
  },
  {
   "cell_type": "code",
   "execution_count": 7,
   "metadata": {},
   "outputs": [],
   "source": [
    "# Split the dataset into train and test sets\n",
    "x_train, x_test, y_train, y_test = train_test_split(dataset, label, test_size=0.2, random_state=42)\n",
    "\n",
    "# Normalize the data\n",
    "x_train = tf.keras.utils.normalize(x_train, axis=1)\n",
    "x_test = tf.keras.utils.normalize(x_test, axis=1)\n"
   ]
  },
  {
   "cell_type": "code",
   "execution_count": 8,
   "metadata": {},
   "outputs": [],
   "source": [
    "# CNN Model creation\n",
    "model = tf.keras.models.Sequential([\n",
    "    tf.keras.layers.Conv2D(32, (3, 3), activation='relu', input_shape=(128, 128, 3)),\n",
    "    tf.keras.layers.MaxPooling2D((2, 2)),\n",
    "    tf.keras.layers.Flatten(),\n",
    "    tf.keras.layers.Dense(256, activation='relu'),\n",
    "    tf.keras.layers.Dropout(0.5),\n",
    "    tf.keras.layers.Dense(512, activation='relu'),\n",
    "    tf.keras.layers.Dense(5, activation='softmax') \n",
    "])\n",
    "\n",
    "model.compile(optimizer='adam',\n",
    "              loss='sparse_categorical_crossentropy', \n",
    "              metrics=['accuracy'])\n"
   ]
  },
  {
   "cell_type": "code",
   "execution_count": 10,
   "metadata": {},
   "outputs": [
    {
     "name": "stdout",
     "output_type": "stream",
     "text": [
      "Model: \"sequential\"\n",
      "_________________________________________________________________\n",
      " Layer (type)                Output Shape              Param #   \n",
      "=================================================================\n",
      " conv2d (Conv2D)             (None, 126, 126, 32)      896       \n",
      "                                                                 \n",
      " max_pooling2d (MaxPooling2  (None, 63, 63, 32)        0         \n",
      " D)                                                              \n",
      "                                                                 \n",
      " flatten (Flatten)           (None, 127008)            0         \n",
      "                                                                 \n",
      " dense (Dense)               (None, 256)               32514304  \n",
      "                                                                 \n",
      " dropout (Dropout)           (None, 256)               0         \n",
      "                                                                 \n",
      " dense_1 (Dense)             (None, 512)               131584    \n",
      "                                                                 \n",
      " dense_2 (Dense)             (None, 5)                 2565      \n",
      "                                                                 \n",
      "=================================================================\n",
      "Total params: 32649349 (124.55 MB)\n",
      "Trainable params: 32649349 (124.55 MB)\n",
      "Non-trainable params: 0 (0.00 Byte)\n",
      "_________________________________________________________________\n"
     ]
    }
   ],
   "source": [
    "model.summary()"
   ]
  },
  {
   "cell_type": "code",
   "execution_count": 11,
   "metadata": {},
   "outputs": [
    {
     "name": "stdout",
     "output_type": "stream",
     "text": [
      "Epoch 1/40\n",
      "1/1 [==============================] - 13s 13s/step - loss: 1.6077 - accuracy: 0.2167 - val_loss: 4.8693 - val_accuracy: 0.1429\n",
      "Epoch 2/40\n",
      "1/1 [==============================] - 3s 3s/step - loss: 3.3163 - accuracy: 0.3083 - val_loss: 2.6285 - val_accuracy: 0.0000e+00\n",
      "Epoch 3/40\n",
      "1/1 [==============================] - 2s 2s/step - loss: 2.5628 - accuracy: 0.2250 - val_loss: 1.6884 - val_accuracy: 0.4286\n",
      "Epoch 4/40\n",
      "1/1 [==============================] - 2s 2s/step - loss: 2.8945 - accuracy: 0.1750 - val_loss: 1.4972 - val_accuracy: 0.4286\n",
      "Epoch 5/40\n",
      "1/1 [==============================] - 2s 2s/step - loss: 2.3691 - accuracy: 0.2167 - val_loss: 1.4817 - val_accuracy: 0.1429\n",
      "Epoch 6/40\n",
      "1/1 [==============================] - 2s 2s/step - loss: 1.9148 - accuracy: 0.2000 - val_loss: 1.7853 - val_accuracy: 0.1429\n",
      "Epoch 7/40\n",
      "1/1 [==============================] - 3s 3s/step - loss: 1.6182 - accuracy: 0.2500 - val_loss: 2.0640 - val_accuracy: 0.1429\n",
      "Epoch 8/40\n",
      "1/1 [==============================] - 4s 4s/step - loss: 1.7073 - accuracy: 0.2583 - val_loss: 2.0677 - val_accuracy: 0.1429\n",
      "Epoch 9/40\n",
      "1/1 [==============================] - 2s 2s/step - loss: 1.6388 - accuracy: 0.3250 - val_loss: 1.9291 - val_accuracy: 0.1429\n",
      "Epoch 10/40\n",
      "1/1 [==============================] - 2s 2s/step - loss: 1.5440 - accuracy: 0.3083 - val_loss: 1.7077 - val_accuracy: 0.1429\n",
      "Epoch 11/40\n",
      "1/1 [==============================] - 2s 2s/step - loss: 1.4949 - accuracy: 0.3500 - val_loss: 1.5398 - val_accuracy: 0.5000\n",
      "Epoch 12/40\n",
      "1/1 [==============================] - 2s 2s/step - loss: 1.4795 - accuracy: 0.3583 - val_loss: 1.5053 - val_accuracy: 0.4286\n",
      "Epoch 13/40\n",
      "1/1 [==============================] - 2s 2s/step - loss: 1.4439 - accuracy: 0.3750 - val_loss: 1.5346 - val_accuracy: 0.4286\n",
      "Epoch 14/40\n",
      "1/1 [==============================] - 4s 4s/step - loss: 1.3898 - accuracy: 0.5000 - val_loss: 1.5840 - val_accuracy: 0.2857\n",
      "Epoch 15/40\n",
      "1/1 [==============================] - 4s 4s/step - loss: 1.3936 - accuracy: 0.5083 - val_loss: 1.6127 - val_accuracy: 0.2143\n",
      "Epoch 16/40\n",
      "1/1 [==============================] - 5s 5s/step - loss: 1.3402 - accuracy: 0.5250 - val_loss: 1.5973 - val_accuracy: 0.2143\n",
      "Epoch 17/40\n",
      "1/1 [==============================] - 5s 5s/step - loss: 1.3206 - accuracy: 0.5333 - val_loss: 1.5729 - val_accuracy: 0.1429\n",
      "Epoch 18/40\n",
      "1/1 [==============================] - 4s 4s/step - loss: 1.2483 - accuracy: 0.5250 - val_loss: 1.5163 - val_accuracy: 0.1429\n",
      "Epoch 19/40\n",
      "1/1 [==============================] - 4s 4s/step - loss: 1.1956 - accuracy: 0.5250 - val_loss: 1.4524 - val_accuracy: 0.2857\n",
      "Epoch 20/40\n",
      "1/1 [==============================] - 4s 4s/step - loss: 1.1747 - accuracy: 0.6167 - val_loss: 1.4081 - val_accuracy: 0.3571\n",
      "Epoch 21/40\n",
      "1/1 [==============================] - 3s 3s/step - loss: 1.1279 - accuracy: 0.5583 - val_loss: 1.3735 - val_accuracy: 0.2857\n",
      "Epoch 22/40\n",
      "1/1 [==============================] - 3s 3s/step - loss: 1.0125 - accuracy: 0.6583 - val_loss: 1.3493 - val_accuracy: 0.2857\n",
      "Epoch 23/40\n",
      "1/1 [==============================] - 3s 3s/step - loss: 0.9722 - accuracy: 0.6917 - val_loss: 1.3104 - val_accuracy: 0.2857\n",
      "Epoch 24/40\n",
      "1/1 [==============================] - 3s 3s/step - loss: 0.9054 - accuracy: 0.7167 - val_loss: 1.2524 - val_accuracy: 0.3571\n",
      "Epoch 25/40\n",
      "1/1 [==============================] - 5s 5s/step - loss: 0.8609 - accuracy: 0.7083 - val_loss: 1.1793 - val_accuracy: 0.5000\n",
      "Epoch 26/40\n",
      "1/1 [==============================] - 6s 6s/step - loss: 0.8189 - accuracy: 0.7833 - val_loss: 1.1186 - val_accuracy: 0.5714\n",
      "Epoch 27/40\n",
      "1/1 [==============================] - 3s 3s/step - loss: 0.7172 - accuracy: 0.7750 - val_loss: 0.9867 - val_accuracy: 0.8571\n",
      "Epoch 28/40\n",
      "1/1 [==============================] - 2s 2s/step - loss: 0.6542 - accuracy: 0.8083 - val_loss: 0.8416 - val_accuracy: 0.9286\n",
      "Epoch 29/40\n",
      "1/1 [==============================] - 2s 2s/step - loss: 0.5799 - accuracy: 0.8417 - val_loss: 0.7363 - val_accuracy: 0.9286\n",
      "Epoch 30/40\n",
      "1/1 [==============================] - 2s 2s/step - loss: 0.5145 - accuracy: 0.9000 - val_loss: 0.6711 - val_accuracy: 0.9286\n",
      "Epoch 31/40\n",
      "1/1 [==============================] - 3s 3s/step - loss: 0.4333 - accuracy: 0.9000 - val_loss: 0.6381 - val_accuracy: 0.8571\n",
      "Epoch 32/40\n",
      "1/1 [==============================] - 2s 2s/step - loss: 0.4527 - accuracy: 0.8750 - val_loss: 0.6369 - val_accuracy: 0.7857\n",
      "Epoch 33/40\n",
      "1/1 [==============================] - 2s 2s/step - loss: 0.3698 - accuracy: 0.9333 - val_loss: 0.6168 - val_accuracy: 0.7857\n",
      "Epoch 34/40\n",
      "1/1 [==============================] - 3s 3s/step - loss: 0.3329 - accuracy: 0.9250 - val_loss: 0.5756 - val_accuracy: 0.9286\n",
      "Epoch 35/40\n",
      "1/1 [==============================] - 4s 4s/step - loss: 0.3318 - accuracy: 0.8833 - val_loss: 0.4944 - val_accuracy: 0.9286\n",
      "Epoch 36/40\n",
      "1/1 [==============================] - 4s 4s/step - loss: 0.2716 - accuracy: 0.9333 - val_loss: 0.4040 - val_accuracy: 0.9286\n",
      "Epoch 37/40\n",
      "1/1 [==============================] - 4s 4s/step - loss: 0.2317 - accuracy: 0.9583 - val_loss: 0.3572 - val_accuracy: 1.0000\n",
      "Epoch 38/40\n",
      "1/1 [==============================] - 3s 3s/step - loss: 0.2418 - accuracy: 0.9417 - val_loss: 0.3449 - val_accuracy: 0.9286\n",
      "Epoch 39/40\n",
      "1/1 [==============================] - 3s 3s/step - loss: 0.2495 - accuracy: 0.9250 - val_loss: 0.4139 - val_accuracy: 0.8571\n",
      "Epoch 40/40\n",
      "1/1 [==============================] - 3s 3s/step - loss: 0.2141 - accuracy: 0.9417 - val_loss: 0.4971 - val_accuracy: 0.8571\n"
     ]
    }
   ],
   "source": [
    "# Model training\n",
    "history = model.fit(x_train, y_train, epochs=40, batch_size=128, validation_split=0.1)"
   ]
  },
  {
   "cell_type": "code",
   "execution_count": 12,
   "metadata": {},
   "outputs": [
    {
     "name": "stdout",
     "output_type": "stream",
     "text": [
      "2/2 [==============================] - 1s 99ms/step - loss: 0.6443 - accuracy: 0.7647\n",
      "Accuracy: 76.47\n",
      "2/2 [==============================] - 1s 29ms/step\n",
      "Classification Report\n",
      "               precision    recall  f1-score   support\n",
      "\n",
      "           0       0.88      0.70      0.78        10\n",
      "           1       0.75      0.86      0.80         7\n",
      "           2       0.75      0.75      0.75         4\n",
      "           3       0.75      0.50      0.60         6\n",
      "           4       0.70      1.00      0.82         7\n",
      "\n",
      "    accuracy                           0.76        34\n",
      "   macro avg       0.77      0.76      0.75        34\n",
      "weighted avg       0.78      0.76      0.76        34\n",
      "\n"
     ]
    }
   ],
   "source": [
    "# Model evaluation\n",
    "loss, accuracy = model.evaluate(x_test, y_test)\n",
    "print(f'Accuracy: {round(accuracy * 100, 2)}')\n",
    "\n",
    "# Predictions\n",
    "y_pred = model.predict(x_test)\n",
    "predicted_labels = np.argmax(y_pred, axis=1)\n",
    "\n",
    "# Classification report\n",
    "print('Classification Report\\n', classification_report(y_test, predicted_labels))"
   ]
  },
  {
   "cell_type": "code",
   "execution_count": 13,
   "metadata": {},
   "outputs": [
    {
     "data": {
      "image/png": "[encoded data removed]",
      "text/plain": [
       "<Figure size 640x480 with 1 Axes>"
      ]
     },
     "metadata": {},
     "output_type": "display_data"
    }
   ],
   "source": [
    "# Plot accuracy\n",
    "plt.plot(history.epoch, history.history['accuracy'], label='accuracy')\n",
    "plt.plot(history.epoch, history.history['val_accuracy'], label='val_accuracy')\n",
    "plt.xlabel('Epoch')\n",
    "plt.ylabel('Accuracy')\n",
    "plt.ylim([0, 1])\n",
    "plt.legend(loc='lower right')\n",
    "plt.savefig('celebrity_image_sample_accuracy_plot.png')"
   ]
  },
  {
   "cell_type": "code",
   "execution_count": 14,
   "metadata": {},
   "outputs": [
    {
     "data": {
      "image/png": "[encoded data removed]",
      "text/plain": [
       "<Figure size 640x480 with 1 Axes>"
      ]
     },
     "metadata": {},
     "output_type": "display_data"
    }
   ],
   "source": [
    "plt.plot(history.epoch, history.history['loss'], label='loss')\n",
    "plt.plot(history.epoch, history.history['val_loss'], label='val_loss')\n",
    "plt.xlabel('Epoch')\n",
    "plt.ylabel('Loss')\n",
    "plt.legend(loc='upper right')\n",
    "plt.savefig('image_sample_loss_plot.png')\n"
   ]
  },
  {
   "cell_type": "code",
   "execution_count": 15,
   "metadata": {},
   "outputs": [],
   "source": [
    "#defining function for predicting\n",
    "def predict_celebrity(image_path, model):\n",
    "    celebrities = ['lionel_messi', 'maria_sharapova', 'roger_federer', 'serena_williams', 'virat_kohli']\n",
    "\n",
    "    img_size = (128, 128)\n",
    "    image = cv2.imread(image_path)\n",
    "    image = Image.fromarray(image, 'RGB')\n",
    "    image = image.resize(img_size)\n",
    "    image = np.array(image)\n",
    "    image = np.expand_dims(image, axis=0)  # Add batch dimension\n",
    "    image = tf.keras.utils.normalize(image, axis=1)\n",
    "    \n",
    "    prediction = model.predict(image)\n",
    "    predicted_label = np.argmax(prediction)\n",
    "    celebrity = celebrities[predicted_label]\n",
    "    \n",
    "    return celebrity"
   ]
  },
  {
   "cell_type": "code",
   "execution_count": 19,
   "metadata": {},
   "outputs": [
    {
     "name": "stdout",
     "output_type": "stream",
     "text": [
      "1/1 [==============================] - 0s 177ms/step\n",
      "The predicted celebrity is: virat_kohli\n",
      "1/1 [==============================] - 0s 59ms/step\n",
      "The predicted celebrity is: lionel_messi\n",
      "1/1 [==============================] - 0s 57ms/step\n",
      "The predicted celebrity is: roger_federer\n",
      "1/1 [==============================] - 0s 58ms/step\n",
      "The predicted celebrity is: serena_williams\n",
      "1/1 [==============================] - 0s 68ms/step\n",
      "The predicted celebrity is: maria_sharapova\n"
     ]
    }
   ],
   "source": [
    "new_image_path = [r'C:\\Users\\Admin\\Desktop\\celebrity\\cropped\\virat_kohli\\virat_kohli7.png',\n",
    "                  r'C:\\Users\\Admin\\Desktop\\celebrity\\cropped\\lionel_messi\\lionel_messi2.png',\n",
    "                  r'C:\\Users\\Admin\\Desktop\\celebrity\\cropped\\roger_federer\\roger_federer2.png',\n",
    "                  r'C:\\Users\\Admin\\Desktop\\celebrity\\cropped\\serena_williams\\serena_williams4.png',\n",
    "                  r'C:\\Users\\Admin\\Desktop\\celebrity\\cropped\\maria_sharapova\\maria_sharapova5.png']\n",
    "for i in new_image_path:\n",
    "    predicted_celebrity = predict_celebrity(i, model)\n",
    "    print(f'The predicted celebrity is: {predicted_celebrity}')"
   ]
  },
  {
   "cell_type": "code",
   "execution_count": null,
   "metadata": {},
   "outputs": [],
   "source": []
  },
  {
   "cell_type": "markdown",
   "metadata": {},
   "source": [
    "SUMMARY"
   ]
  },
  {
   "cell_type": "markdown",
   "metadata": {},
   "source": [
    "Here first the images of the different celebrities are loaded from the respective folders and was preprocessed and loaded into the dataset list and for each celebrity a corresponding label is attached to the label list"
   ]
  },
  {
   "cell_type": "markdown",
   "metadata": {},
   "source": [
    "CHOSEN MODEL- Convolutional Neural Network(CNN)\n"
   ]
  },
  {
   "cell_type": "markdown",
   "metadata": {},
   "source": [
    "Model Archietecture:"
   ]
  },
  {
   "cell_type": "markdown",
   "metadata": {},
   "source": [
    "\"\n",
    "model = tf.keras.models.Sequential([\n",
    "\n",
    "    tf.keras.layers.Conv2D(32, (3, 3), activation='relu', input_shape=(128, 128, 3)),\n",
    "\n",
    "    tf.keras.layers.MaxPooling2D((2, 2)),\n",
    "\n",
    "    tf.keras.layers.Flatten(),\n",
    "\n",
    "    tf.keras.layers.Dense(256, activation='relu'),\n",
    "\n",
    "    tf.keras.layers.Dropout(0.5),\n",
    "\n",
    "    tf.keras.layers.Dense(512, activation='relu'),\n",
    "\n",
    "    tf.keras.layers.Dense(5, activation='softmax') \n",
    "\n",
    "])\n",
    "\n",
    "\n",
    "model.compile(optimizer='adam',\n",
    "\n",
    "              loss='sparse_categorical_crossentropy', \n",
    "\n",
    "              metrics=['accuracy'])\"\n",
    "\n",
    "\n",
    "\n",
    "\n",
    "Here\n",
    "\n",
    "Input Layer: Accepts images of size 128x128 pixels with three color channels (RGB).\n",
    "\n",
    "Convolutional Layers:\n",
    "\n",
    "32 filters of size 3x3, using ReLU activation function.\n",
    "\n",
    "Followed by max-pooling with a 2x2 window to reduce spatial dimensions.\n",
    "\n",
    "\n",
    "Flattening Layer: \n",
    "\n",
    "Flattens the output from the convolutional layers into a 1D array to feed into the densely connected layers.\n",
    "\n",
    "\n",
    "Densely Connected Layers:\n",
    "\n",
    "First dense layer with 256 neurons and ReLU activation.\n",
    "\n",
    "Dropout layer with a rate of 0.5 to reduce overfitting.\n",
    "\n",
    "Second dense layer with 512 neurons and ReLU activation.\n",
    "\n",
    "Final dense layer with 5 neurons, using the softmax activation function for multi-class classification (outputting probabilities for 5 classes).\n",
    "\n",
    "\n",
    "Optimizer: Adam optimizer is used\n",
    "\n",
    "Loss function: Sparse categorical cross-entropy, which is suitable for multi-class classification.\n",
    "\n",
    "Metrics: Accuracy, to evaluate the model's performance during training."
   ]
  },
  {
   "cell_type": "markdown",
   "metadata": {},
   "source": []
  },
  {
   "cell_type": "markdown",
   "metadata": {},
   "source": [
    "TRAINING\n"
   ]
  },
  {
   "cell_type": "markdown",
   "metadata": {},
   "source": [
    "history = model.fit(x_train, y_train, epochs=40, batch_size=128, validation_split=0.1)\n",
    "\n",
    "Here the model is trained for 40 epochs with batch size of 128\n",
    "\n"
   ]
  },
  {
   "cell_type": "markdown",
   "metadata": {},
   "source": [
    "EVALUATION"
   ]
  },
  {
   "cell_type": "markdown",
   "metadata": {},
   "source": [
    "Here we evaluated the model on the test data and a classification report was generated\n",
    "\n",
    "the accuracy was recorded as 76%"
   ]
  },
  {
   "cell_type": "markdown",
   "metadata": {},
   "source": [
    "PREDICTION"
   ]
  },
  {
   "cell_type": "markdown",
   "metadata": {},
   "source": [
    "A function \"predict_celebrity\" was created inorder to take the user input image a preprocessed for predicting the celebrity\n",
    "\n",
    "And we can observe that the model is predicting correctly the celebrities among the inputed image\n"
   ]
  },
  {
   "cell_type": "markdown",
   "metadata": {},
   "source": []
  }
 ],
 "metadata": {
  "kernelspec": {
   "display_name": "Python 3",
   "language": "python",
   "name": "python3"
  },
  "language_info": {
   "codemirror_mode": {
    "name": "ipython",
    "version": 3
   },
   "file_extension": ".py",
   "mimetype": "text/x-python",
   "name": "python",
   "nbconvert_exporter": "python",
   "pygments_lexer": "ipython3",
   "version": "3.11.1"
  }
 },
 "nbformat": 4,
 "nbformat_minor": 2
}
